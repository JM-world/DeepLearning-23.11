{
  "nbformat": 4,
  "nbformat_minor": 0,
  "metadata": {
    "colab": {
      "provenance": [],
      "gpuType": "T4"
    },
    "kernelspec": {
      "name": "python3",
      "display_name": "Python 3"
    },
    "language_info": {
      "name": "python"
    },
    "accelerator": "GPU"
  },
  "cells": [
    {
      "cell_type": "markdown",
      "source": [
        "## MNIST 손글씨 - CNN v3\n",
        "- 2 x Conv2D layers\n",
        "- 1 MaxPooling2D layer\n",
        "- 1 Dropout(0.25) layer\n",
        "- 1 FCN layer\n",
        "- 1 Dropout(0.5) layer\n",
        "- 1 Output layer"
      ],
      "metadata": {
        "id": "BTdLGRRMe9Jc"
      }
    },
    {
      "cell_type": "code",
      "execution_count": 1,
      "metadata": {
        "id": "2prnkAnRexh7"
      },
      "outputs": [],
      "source": [
        "import numpy as np\n",
        "import matplotlib.pyplot as plt\n",
        "import tensorflow as tf\n",
        "seed = 2023\n",
        "np.random.seed(seed)\n",
        "tf.random.set_seed(seed)"
      ]
    },
    {
      "cell_type": "code",
      "source": [
        "tf.__version__"
      ],
      "metadata": {
        "colab": {
          "base_uri": "https://localhost:8080/",
          "height": 35
        },
        "id": "z4lLOop5fi7F",
        "outputId": "8f681bbd-35bd-4107-a795-77c126342411"
      },
      "execution_count": 2,
      "outputs": [
        {
          "output_type": "execute_result",
          "data": {
            "text/plain": [
              "'2.14.0'"
            ],
            "application/vnd.google.colaboratory.intrinsic+json": {
              "type": "string"
            }
          },
          "metadata": {},
          "execution_count": 2
        }
      ]
    },
    {
      "cell_type": "markdown",
      "source": [
        "- 데이터 전처리"
      ],
      "metadata": {
        "id": "fFNeWYCAfd0C"
      }
    },
    {
      "cell_type": "code",
      "source": [
        "from tensorflow.keras.datasets import mnist\n",
        "(X_train, y_train), (X_test, y_test) = mnist.load_data()\n",
        "X_train.shape, y_train.shape, X_test.shape, y_test.shape"
      ],
      "metadata": {
        "colab": {
          "base_uri": "https://localhost:8080/"
        },
        "id": "aSBkArz7fZpN",
        "outputId": "973bbe8c-ca2c-4359-ebe8-dcef916b1c75"
      },
      "execution_count": 3,
      "outputs": [
        {
          "output_type": "stream",
          "name": "stdout",
          "text": [
            "Downloading data from https://storage.googleapis.com/tensorflow/tf-keras-datasets/mnist.npz\n",
            "11490434/11490434 [==============================] - 0s 0us/step\n"
          ]
        },
        {
          "output_type": "execute_result",
          "data": {
            "text/plain": [
              "((60000, 28, 28), (60000,), (10000, 28, 28), (10000,))"
            ]
          },
          "metadata": {},
          "execution_count": 3
        }
      ]
    },
    {
      "cell_type": "code",
      "source": [
        "# X data의 차원 변경 및 정규화(0~1)\n",
        "X_train = X_train.reshape(-1, 28, 28, 1) / 255.\n",
        "X_test = X_test.reshape(-1, 28, 28, 1) / 255.\n"
      ],
      "metadata": {
        "id": "pOfr0yaDf70z"
      },
      "execution_count": 4,
      "outputs": []
    },
    {
      "cell_type": "code",
      "source": [
        "# y_data의 one-hot-encoding\n",
        "from tensorflow.keras.utils import to_categorical\n",
        "Y_train = to_categorical(y_train)\n",
        "Y_test = to_categorical(y_test)\n",
        "Y_train.shape, Y_test.shape"
      ],
      "metadata": {
        "colab": {
          "base_uri": "https://localhost:8080/"
        },
        "id": "VLD2k0l5gY8a",
        "outputId": "001276bd-3645-4e64-9881-ddf85890a864"
      },
      "execution_count": 5,
      "outputs": [
        {
          "output_type": "execute_result",
          "data": {
            "text/plain": [
              "((60000, 10), (10000, 10))"
            ]
          },
          "metadata": {},
          "execution_count": 5
        }
      ]
    },
    {
      "cell_type": "markdown",
      "source": [
        "- 모델 정의/설정/학습/평가"
      ],
      "metadata": {
        "id": "60BhvUZvg6OC"
      }
    },
    {
      "cell_type": "code",
      "source": [
        "from tensorflow.keras.models import Sequential, load_model\n",
        "from tensorflow.keras.layers import Conv2D, Dense, Flatten, MaxPooling2D, Dropout\n",
        "from tensorflow.keras.callbacks import ModelCheckpoint, EarlyStopping"
      ],
      "metadata": {
        "id": "6HSMGm64gyXj"
      },
      "execution_count": 6,
      "outputs": []
    },
    {
      "cell_type": "code",
      "source": [
        "model = Sequential([\n",
        "    Conv2D(32, kernel_size=(3, 3), input_shape=(28, 28, 1), activation='relu'),\n",
        "    Conv2D(64, (3,3), activation='relu'),\n",
        "    MaxPooling2D(),             # MaxPooling2D(pool_size=(2,2))\n",
        "    Dropout(0.25),\n",
        "    Flatten(),\n",
        "    Dense(512, activation='relu'),\n",
        "    Dropout(0.5),\n",
        "    Dense(10, activation='softmax')\n",
        "])\n",
        "model.summary()"
      ],
      "metadata": {
        "colab": {
          "base_uri": "https://localhost:8080/"
        },
        "id": "ykMD1ZYsha60",
        "outputId": "d2ae11ff-85da-4684-993f-f202c2e5356a"
      },
      "execution_count": 7,
      "outputs": [
        {
          "output_type": "stream",
          "name": "stdout",
          "text": [
            "Model: \"sequential\"\n",
            "_________________________________________________________________\n",
            " Layer (type)                Output Shape              Param #   \n",
            "=================================================================\n",
            " conv2d (Conv2D)             (None, 26, 26, 32)        320       \n",
            "                                                                 \n",
            " conv2d_1 (Conv2D)           (None, 24, 24, 64)        18496     \n",
            "                                                                 \n",
            " max_pooling2d (MaxPooling2  (None, 12, 12, 64)        0         \n",
            " D)                                                              \n",
            "                                                                 \n",
            " dropout (Dropout)           (None, 12, 12, 64)        0         \n",
            "                                                                 \n",
            " flatten (Flatten)           (None, 9216)              0         \n",
            "                                                                 \n",
            " dense (Dense)               (None, 512)               4719104   \n",
            "                                                                 \n",
            " dropout_1 (Dropout)         (None, 512)               0         \n",
            "                                                                 \n",
            " dense_1 (Dense)             (None, 10)                5130      \n",
            "                                                                 \n",
            "=================================================================\n",
            "Total params: 4743050 (18.09 MB)\n",
            "Trainable params: 4743050 (18.09 MB)\n",
            "Non-trainable params: 0 (0.00 Byte)\n",
            "_________________________________________________________________\n"
          ]
        }
      ]
    },
    {
      "cell_type": "code",
      "source": [
        "model.compile('adam', 'categorical_crossentropy', metrics=['accuracy'])"
      ],
      "metadata": {
        "id": "F1amoJZhiPJ7"
      },
      "execution_count": 8,
      "outputs": []
    },
    {
      "cell_type": "code",
      "source": [
        "!mkdir models\n",
        "!ls -l"
      ],
      "metadata": {
        "colab": {
          "base_uri": "https://localhost:8080/"
        },
        "id": "v4GzPbPQkVnR",
        "outputId": "03ef4360-6d9c-4eeb-890a-9705c8426d62"
      },
      "execution_count": 9,
      "outputs": [
        {
          "output_type": "stream",
          "name": "stdout",
          "text": [
            "total 8\n",
            "drwxr-xr-x 2 root root 4096 Nov  8 02:13 models\n",
            "drwxr-xr-x 1 root root 4096 Nov  6 14:20 sample_data\n"
          ]
        }
      ]
    },
    {
      "cell_type": "code",
      "source": [
        "model_path = 'models/best-mnist-v3.h5'\n",
        "mc = ModelCheckpoint(model_path, save_best_only=True, verbose=1)\n",
        "es = EarlyStopping(patience=5)"
      ],
      "metadata": {
        "id": "brzPDAOCj-CD"
      },
      "execution_count": 10,
      "outputs": []
    },
    {
      "cell_type": "code",
      "source": [
        "hist = model.fit(\n",
        "    X_train, Y_train, validation_split=0.2, epochs=100, batch_size=256,\n",
        "    callbacks=[mc, es]\n",
        ")"
      ],
      "metadata": {
        "colab": {
          "base_uri": "https://localhost:8080/"
        },
        "id": "gRTj0o3fk-kt",
        "outputId": "91f67026-52f0-48bb-8661-d2c76dcd9fbd"
      },
      "execution_count": 11,
      "outputs": [
        {
          "output_type": "stream",
          "name": "stdout",
          "text": [
            "Epoch 1/100\n",
            "188/188 [==============================] - ETA: 0s - loss: 0.2429 - accuracy: 0.9250\n",
            "Epoch 1: val_loss improved from inf to 0.06358, saving model to models/best-mnist-v3.h5\n",
            "188/188 [==============================] - 15s 22ms/step - loss: 0.2429 - accuracy: 0.9250 - val_loss: 0.0636 - val_accuracy: 0.9813\n",
            "Epoch 2/100\n",
            "  1/188 [..............................] - ETA: 5s - loss: 0.0697 - accuracy: 0.9766"
          ]
        },
        {
          "output_type": "stream",
          "name": "stderr",
          "text": [
            "/usr/local/lib/python3.10/dist-packages/keras/src/engine/training.py:3079: UserWarning: You are saving your model as an HDF5 file via `model.save()`. This file format is considered legacy. We recommend using instead the native Keras format, e.g. `model.save('my_model.keras')`.\n",
            "  saving_api.save_model(\n"
          ]
        },
        {
          "output_type": "stream",
          "name": "stdout",
          "text": [
            "185/188 [============================>.] - ETA: 0s - loss: 0.0729 - accuracy: 0.9778\n",
            "Epoch 2: val_loss improved from 0.06358 to 0.04983, saving model to models/best-mnist-v3.h5\n",
            "188/188 [==============================] - 3s 18ms/step - loss: 0.0727 - accuracy: 0.9779 - val_loss: 0.0498 - val_accuracy: 0.9852\n",
            "Epoch 3/100\n",
            "188/188 [==============================] - ETA: 0s - loss: 0.0471 - accuracy: 0.9857\n",
            "Epoch 3: val_loss improved from 0.04983 to 0.04326, saving model to models/best-mnist-v3.h5\n",
            "188/188 [==============================] - 4s 21ms/step - loss: 0.0471 - accuracy: 0.9857 - val_loss: 0.0433 - val_accuracy: 0.9870\n",
            "Epoch 4/100\n",
            "187/188 [============================>.] - ETA: 0s - loss: 0.0354 - accuracy: 0.9888\n",
            "Epoch 4: val_loss improved from 0.04326 to 0.04151, saving model to models/best-mnist-v3.h5\n",
            "188/188 [==============================] - 3s 18ms/step - loss: 0.0353 - accuracy: 0.9888 - val_loss: 0.0415 - val_accuracy: 0.9876\n",
            "Epoch 5/100\n",
            "186/188 [============================>.] - ETA: 0s - loss: 0.0291 - accuracy: 0.9907\n",
            "Epoch 5: val_loss did not improve from 0.04151\n",
            "188/188 [==============================] - 3s 18ms/step - loss: 0.0291 - accuracy: 0.9907 - val_loss: 0.0421 - val_accuracy: 0.9883\n",
            "Epoch 6/100\n",
            "186/188 [============================>.] - ETA: 0s - loss: 0.0257 - accuracy: 0.9915\n",
            "Epoch 6: val_loss improved from 0.04151 to 0.03679, saving model to models/best-mnist-v3.h5\n",
            "188/188 [==============================] - 3s 18ms/step - loss: 0.0258 - accuracy: 0.9915 - val_loss: 0.0368 - val_accuracy: 0.9890\n",
            "Epoch 7/100\n",
            "186/188 [============================>.] - ETA: 0s - loss: 0.0208 - accuracy: 0.9928\n",
            "Epoch 7: val_loss did not improve from 0.03679\n",
            "188/188 [==============================] - 3s 17ms/step - loss: 0.0207 - accuracy: 0.9928 - val_loss: 0.0389 - val_accuracy: 0.9893\n",
            "Epoch 8/100\n",
            "187/188 [============================>.] - ETA: 0s - loss: 0.0170 - accuracy: 0.9942\n",
            "Epoch 8: val_loss improved from 0.03679 to 0.03638, saving model to models/best-mnist-v3.h5\n",
            "188/188 [==============================] - 4s 19ms/step - loss: 0.0169 - accuracy: 0.9942 - val_loss: 0.0364 - val_accuracy: 0.9903\n",
            "Epoch 9/100\n",
            "185/188 [============================>.] - ETA: 0s - loss: 0.0148 - accuracy: 0.9950\n",
            "Epoch 9: val_loss improved from 0.03638 to 0.03435, saving model to models/best-mnist-v3.h5\n",
            "188/188 [==============================] - 3s 17ms/step - loss: 0.0149 - accuracy: 0.9950 - val_loss: 0.0344 - val_accuracy: 0.9911\n",
            "Epoch 10/100\n",
            "186/188 [============================>.] - ETA: 0s - loss: 0.0143 - accuracy: 0.9954\n",
            "Epoch 10: val_loss improved from 0.03435 to 0.03408, saving model to models/best-mnist-v3.h5\n",
            "188/188 [==============================] - 3s 18ms/step - loss: 0.0143 - accuracy: 0.9954 - val_loss: 0.0341 - val_accuracy: 0.9905\n",
            "Epoch 11/100\n",
            "185/188 [============================>.] - ETA: 0s - loss: 0.0124 - accuracy: 0.9958\n",
            "Epoch 11: val_loss did not improve from 0.03408\n",
            "188/188 [==============================] - 3s 17ms/step - loss: 0.0123 - accuracy: 0.9958 - val_loss: 0.0398 - val_accuracy: 0.9902\n",
            "Epoch 12/100\n",
            "188/188 [==============================] - ETA: 0s - loss: 0.0129 - accuracy: 0.9954\n",
            "Epoch 12: val_loss did not improve from 0.03408\n",
            "188/188 [==============================] - 3s 18ms/step - loss: 0.0129 - accuracy: 0.9954 - val_loss: 0.0354 - val_accuracy: 0.9908\n",
            "Epoch 13/100\n",
            "187/188 [============================>.] - ETA: 0s - loss: 0.0100 - accuracy: 0.9965\n",
            "Epoch 13: val_loss did not improve from 0.03408\n",
            "188/188 [==============================] - 3s 17ms/step - loss: 0.0100 - accuracy: 0.9965 - val_loss: 0.0411 - val_accuracy: 0.9902\n",
            "Epoch 14/100\n",
            "185/188 [============================>.] - ETA: 0s - loss: 0.0098 - accuracy: 0.9966\n",
            "Epoch 14: val_loss did not improve from 0.03408\n",
            "188/188 [==============================] - 3s 17ms/step - loss: 0.0098 - accuracy: 0.9966 - val_loss: 0.0342 - val_accuracy: 0.9920\n",
            "Epoch 15/100\n",
            "188/188 [==============================] - ETA: 0s - loss: 0.0077 - accuracy: 0.9973\n",
            "Epoch 15: val_loss did not improve from 0.03408\n",
            "188/188 [==============================] - 3s 17ms/step - loss: 0.0077 - accuracy: 0.9973 - val_loss: 0.0420 - val_accuracy: 0.9907\n"
          ]
        }
      ]
    },
    {
      "cell_type": "code",
      "source": [
        "best_model = load_model(model_path)\n",
        "best_model.evaluate(X_test, Y_test)"
      ],
      "metadata": {
        "colab": {
          "base_uri": "https://localhost:8080/"
        },
        "id": "9oebbp1PlaOs",
        "outputId": "ab85db43-c6fb-46be-f3f0-3b8a38dabcb2"
      },
      "execution_count": 12,
      "outputs": [
        {
          "output_type": "stream",
          "name": "stdout",
          "text": [
            "313/313 [==============================] - 3s 7ms/step - loss: 0.0299 - accuracy: 0.9903\n"
          ]
        },
        {
          "output_type": "execute_result",
          "data": {
            "text/plain": [
              "[0.02989000268280506, 0.9902999997138977]"
            ]
          },
          "metadata": {},
          "execution_count": 12
        }
      ]
    },
    {
      "cell_type": "markdown",
      "source": [
        "- 학습과정 시각화"
      ],
      "metadata": {
        "id": "8D2bqOW6mlZS"
      }
    },
    {
      "cell_type": "code",
      "source": [
        "y_acc = hist.history['accuracy']\n",
        "y_vloss = hist.history['val_loss']\n",
        "xs = np.arange(1, len(y_acc)+1)"
      ],
      "metadata": {
        "id": "H2CT0vQImfMC"
      },
      "execution_count": 13,
      "outputs": []
    },
    {
      "cell_type": "code",
      "source": [
        "plt.figure(figsize=(12,6))\n",
        "plt.plot(xs, y_acc, label='train accuracy')\n",
        "plt.plot(xs, y_vloss, label='validation loss')\n",
        "plt.legend(), plt.grid(), plt.xlabel('epoch')\n",
        "plt.title('MNIST CNN Model v3')\n",
        "plt.show()"
      ],
      "metadata": {
        "colab": {
          "base_uri": "https://localhost:8080/",
          "height": 564
        },
        "id": "UPHylCPxmt1x",
        "outputId": "d3f5ff8e-0713-44a7-abc3-711900e59fe0"
      },
      "execution_count": 15,
      "outputs": [
        {
          "output_type": "display_data",
          "data": {
            "text/plain": [
              "<Figure size 1200x600 with 1 Axes>"
            ],
            "image/png": "[encoded data removed]"
          },
          "metadata": {}
        }
      ]
    },
    {
      "cell_type": "code",
      "source": [],
      "metadata": {
        "id": "0VuzB9Temufw"
      },
      "execution_count": 14,
      "outputs": []
    }
  ]
}