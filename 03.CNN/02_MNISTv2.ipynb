{
  "cells": [
    {
      "cell_type": "markdown",
      "metadata": {
        "id": "BTdLGRRMe9Jc"
      },
      "source": [
        "## MNIST 손글씨 - CNN v2\n",
        "- 2 x Conv2D layers\n",
        "- 1 MaxPooling2D layer\n",
        "- 1 FCN layer\n",
        "- 1 Output layer"
      ]
    },
    {
      "cell_type": "code",
      "execution_count": 18,
      "metadata": {
        "id": "2prnkAnRexh7"
      },
      "outputs": [],
      "source": [
        "import numpy as np\n",
        "import matplotlib.pyplot as plt\n",
        "import tensorflow as tf\n",
        "seed = 2023\n",
        "np.random.seed(seed)\n",
        "tf.random.set_seed(seed)"
      ]
    },
    {
      "cell_type": "code",
      "execution_count": 19,
      "metadata": {
        "colab": {
          "base_uri": "https://localhost:8080/",
          "height": 35
        },
        "id": "z4lLOop5fi7F",
        "outputId": "bd86fefa-ed35-484d-9465-a8e595061af6"
      },
      "outputs": [
        {
          "data": {
            "application/vnd.google.colaboratory.intrinsic+json": {
              "type": "string"
            },
            "text/plain": [
              "'2.14.0'"
            ]
          },
          "execution_count": 19,
          "metadata": {},
          "output_type": "execute_result"
        }
      ],
      "source": [
        "tf.__version__"
      ]
    },
    {
      "cell_type": "markdown",
      "metadata": {
        "id": "fFNeWYCAfd0C"
      },
      "source": [
        "- 데이터 전처리"
      ]
    },
    {
      "cell_type": "code",
      "execution_count": 20,
      "metadata": {
        "colab": {
          "base_uri": "https://localhost:8080/"
        },
        "id": "aSBkArz7fZpN",
        "outputId": "501d5735-b8ac-48c9-8983-cb957e1c1914"
      },
      "outputs": [
        {
          "data": {
            "text/plain": [
              "((60000, 28, 28), (60000,), (10000, 28, 28), (10000,))"
            ]
          },
          "execution_count": 20,
          "metadata": {},
          "output_type": "execute_result"
        }
      ],
      "source": [
        "from tensorflow.keras.datasets import mnist\n",
        "(X_train, y_train), (X_test, y_test) = mnist.load_data()\n",
        "X_train.shape, y_train.shape, X_test.shape, y_test.shape"
      ]
    },
    {
      "cell_type": "code",
      "execution_count": 21,
      "metadata": {
        "id": "pOfr0yaDf70z"
      },
      "outputs": [],
      "source": [
        "# X data의 차원 변경 및 정규화(0~1)\n",
        "X_train = X_train.reshape(-1, 28, 28, 1) / 255.\n",
        "X_test = X_test.reshape(-1, 28, 28, 1) / 255.\n"
      ]
    },
    {
      "cell_type": "code",
      "execution_count": 22,
      "metadata": {
        "colab": {
          "base_uri": "https://localhost:8080/"
        },
        "id": "VLD2k0l5gY8a",
        "outputId": "95edb63d-ffa6-4350-b898-94a9d4dc3186"
      },
      "outputs": [
        {
          "data": {
            "text/plain": [
              "((60000, 10), (10000, 10))"
            ]
          },
          "execution_count": 22,
          "metadata": {},
          "output_type": "execute_result"
        }
      ],
      "source": [
        "# y_data의 one-hot-encoding\n",
        "from tensorflow.keras.utils import to_categorical\n",
        "Y_train = to_categorical(y_train)\n",
        "Y_test = to_categorical(y_test)\n",
        "Y_train.shape, Y_test.shape"
      ]
    },
    {
      "cell_type": "markdown",
      "metadata": {
        "id": "60BhvUZvg6OC"
      },
      "source": [
        "- 모델 정의/설정/학습/평가"
      ]
    },
    {
      "cell_type": "code",
      "execution_count": 23,
      "metadata": {
        "id": "6HSMGm64gyXj"
      },
      "outputs": [],
      "source": [
        "from tensorflow.keras.models import Sequential, load_model\n",
        "from tensorflow.keras.layers import Conv2D, Dense, Flatten, MaxPooling2D\n",
        "from tensorflow.keras.callbacks import ModelCheckpoint, EarlyStopping"
      ]
    },
    {
      "cell_type": "code",
      "execution_count": 24,
      "metadata": {
        "colab": {
          "base_uri": "https://localhost:8080/"
        },
        "id": "ykMD1ZYsha60",
        "outputId": "31e9e3d8-bf04-47be-85ca-cc5a64faf6d5"
      },
      "outputs": [
        {
          "name": "stdout",
          "output_type": "stream",
          "text": [
            "Model: \"sequential_1\"\n",
            "_________________________________________________________________\n",
            " Layer (type)                Output Shape              Param #   \n",
            "=================================================================\n",
            " conv2d_2 (Conv2D)           (None, 26, 26, 32)        320       \n",
            "                                                                 \n",
            " conv2d_3 (Conv2D)           (None, 24, 24, 64)        18496     \n",
            "                                                                 \n",
            " max_pooling2d (MaxPooling2  (None, 12, 12, 64)        0         \n",
            " D)                                                              \n",
            "                                                                 \n",
            " flatten_1 (Flatten)         (None, 9216)              0         \n",
            "                                                                 \n",
            " dense_2 (Dense)             (None, 512)               4719104   \n",
            "                                                                 \n",
            " dense_3 (Dense)             (None, 10)                5130      \n",
            "                                                                 \n",
            "=================================================================\n",
            "Total params: 4743050 (18.09 MB)\n",
            "Trainable params: 4743050 (18.09 MB)\n",
            "Non-trainable params: 0 (0.00 Byte)\n",
            "_________________________________________________________________\n"
          ]
        }
      ],
      "source": [
        "model = Sequential([\n",
        "    Conv2D(32, kernel_size=(3, 3), input_shape=(28, 28, 1), activation='relu'),\n",
        "    Conv2D(64, (3,3), activation='relu'),\n",
        "    MaxPooling2D(),             # MaxPooling2D(pool_size=(2,2))\n",
        "    Flatten(),\n",
        "    Dense(512, activation='relu'),\n",
        "    Dense(10, activation='softmax')\n",
        "])\n",
        "model.summary()"
      ]
    },
    {
      "cell_type": "code",
      "execution_count": 25,
      "metadata": {
        "id": "F1amoJZhiPJ7"
      },
      "outputs": [],
      "source": [
        "model.compile('adam', 'categorical_crossentropy', metrics=['accuracy'])"
      ]
    },
    {
      "cell_type": "code",
      "execution_count": 26,
      "metadata": {
        "colab": {
          "base_uri": "https://localhost:8080/"
        },
        "id": "v4GzPbPQkVnR",
        "outputId": "91d582ae-a396-4540-8647-3ac191d59b48"
      },
      "outputs": [
        {
          "name": "stdout",
          "output_type": "stream",
          "text": [
            "mkdir: cannot create directory ‘models’: File exists\n",
            "total 8\n",
            "drwxr-xr-x 2 root root 4096 Nov  8 01:41 models\n",
            "drwxr-xr-x 1 root root 4096 Nov  6 14:20 sample_data\n"
          ]
        }
      ],
      "source": [
        "!mkdir models\n",
        "!ls -l"
      ]
    },
    {
      "cell_type": "code",
      "execution_count": 27,
      "metadata": {
        "id": "brzPDAOCj-CD"
      },
      "outputs": [],
      "source": [
        "model_path = 'models/best-mnist-v2.h5'\n",
        "mc = ModelCheckpoint(model_path, save_best_only=True, verbose=1)\n",
        "es = EarlyStopping(patience=5)"
      ]
    },
    {
      "cell_type": "code",
      "execution_count": 28,
      "metadata": {
        "colab": {
          "base_uri": "https://localhost:8080/"
        },
        "id": "gRTj0o3fk-kt",
        "outputId": "22e58649-05ab-43a0-bd59-ca02b26f341f"
      },
      "outputs": [
        {
          "name": "stdout",
          "output_type": "stream",
          "text": [
            "Epoch 1/100\n",
            "186/188 [============================>.] - ETA: 0s - loss: 0.2101 - accuracy: 0.9362\n",
            "Epoch 1: val_loss improved from inf to 0.06007, saving model to models/best-mnist-v2.h5\n",
            "188/188 [==============================] - 4s 18ms/step - loss: 0.2088 - accuracy: 0.9366 - val_loss: 0.0601 - val_accuracy: 0.9820\n",
            "Epoch 2/100\n",
            "  5/188 [..............................] - ETA: 2s - loss: 0.0544 - accuracy: 0.9828"
          ]
        },
        {
          "name": "stderr",
          "output_type": "stream",
          "text": [
            "/usr/local/lib/python3.10/dist-packages/keras/src/engine/training.py:3079: UserWarning: You are saving your model as an HDF5 file via `model.save()`. This file format is considered legacy. We recommend using instead the native Keras format, e.g. `model.save('my_model.keras')`.\n",
            "  saving_api.save_model(\n"
          ]
        },
        {
          "name": "stdout",
          "output_type": "stream",
          "text": [
            "185/188 [============================>.] - ETA: 0s - loss: 0.0497 - accuracy: 0.9845\n",
            "Epoch 2: val_loss improved from 0.06007 to 0.04818, saving model to models/best-mnist-v2.h5\n",
            "188/188 [==============================] - 3s 15ms/step - loss: 0.0496 - accuracy: 0.9845 - val_loss: 0.0482 - val_accuracy: 0.9859\n",
            "Epoch 3/100\n",
            "187/188 [============================>.] - ETA: 0s - loss: 0.0287 - accuracy: 0.9907\n",
            "Epoch 3: val_loss improved from 0.04818 to 0.04664, saving model to models/best-mnist-v2.h5\n",
            "188/188 [==============================] - 3s 15ms/step - loss: 0.0287 - accuracy: 0.9907 - val_loss: 0.0466 - val_accuracy: 0.9867\n",
            "Epoch 4/100\n",
            "184/188 [============================>.] - ETA: 0s - loss: 0.0185 - accuracy: 0.9940\n",
            "Epoch 4: val_loss improved from 0.04664 to 0.04049, saving model to models/best-mnist-v2.h5\n",
            "188/188 [==============================] - 3s 14ms/step - loss: 0.0185 - accuracy: 0.9940 - val_loss: 0.0405 - val_accuracy: 0.9876\n",
            "Epoch 5/100\n",
            "187/188 [============================>.] - ETA: 0s - loss: 0.0114 - accuracy: 0.9964\n",
            "Epoch 5: val_loss did not improve from 0.04049\n",
            "188/188 [==============================] - 3s 14ms/step - loss: 0.0114 - accuracy: 0.9965 - val_loss: 0.0461 - val_accuracy: 0.9880\n",
            "Epoch 6/100\n",
            "186/188 [============================>.] - ETA: 0s - loss: 0.0075 - accuracy: 0.9976\n",
            "Epoch 6: val_loss did not improve from 0.04049\n",
            "188/188 [==============================] - 3s 15ms/step - loss: 0.0075 - accuracy: 0.9976 - val_loss: 0.0434 - val_accuracy: 0.9878\n",
            "Epoch 7/100\n",
            "187/188 [============================>.] - ETA: 0s - loss: 0.0050 - accuracy: 0.9983\n",
            "Epoch 7: val_loss did not improve from 0.04049\n",
            "188/188 [==============================] - 3s 14ms/step - loss: 0.0050 - accuracy: 0.9983 - val_loss: 0.0483 - val_accuracy: 0.9887\n",
            "Epoch 8/100\n",
            "187/188 [============================>.] - ETA: 0s - loss: 0.0045 - accuracy: 0.9985\n",
            "Epoch 8: val_loss did not improve from 0.04049\n",
            "188/188 [==============================] - 3s 14ms/step - loss: 0.0045 - accuracy: 0.9985 - val_loss: 0.0576 - val_accuracy: 0.9867\n",
            "Epoch 9/100\n",
            "186/188 [============================>.] - ETA: 0s - loss: 0.0035 - accuracy: 0.9988\n",
            "Epoch 9: val_loss did not improve from 0.04049\n",
            "188/188 [==============================] - 3s 14ms/step - loss: 0.0035 - accuracy: 0.9988 - val_loss: 0.0575 - val_accuracy: 0.9881\n"
          ]
        }
      ],
      "source": [
        "hist = model.fit(\n",
        "    X_train, Y_train, validation_split=0.2, epochs=100, batch_size=256,\n",
        "    callbacks=[mc, es]\n",
        ")"
      ]
    },
    {
      "cell_type": "code",
      "execution_count": 29,
      "metadata": {
        "colab": {
          "base_uri": "https://localhost:8080/"
        },
        "id": "9oebbp1PlaOs",
        "outputId": "80349215-6f01-4040-a2c2-e01d1b8d3c72"
      },
      "outputs": [
        {
          "name": "stdout",
          "output_type": "stream",
          "text": [
            "313/313 [==============================] - 1s 3ms/step - loss: 0.0348 - accuracy: 0.9892\n"
          ]
        },
        {
          "data": {
            "text/plain": [
              "[0.034762077033519745, 0.9891999959945679]"
            ]
          },
          "execution_count": 29,
          "metadata": {},
          "output_type": "execute_result"
        }
      ],
      "source": [
        "best_model = load_model(model_path)\n",
        "best_model.evaluate(X_test, Y_test)"
      ]
    },
    {
      "cell_type": "markdown",
      "metadata": {
        "id": "8D2bqOW6mlZS"
      },
      "source": [
        "- 학습과정 시각화"
      ]
    },
    {
      "cell_type": "code",
      "execution_count": 30,
      "metadata": {
        "id": "H2CT0vQImfMC"
      },
      "outputs": [],
      "source": [
        "y_acc = hist.history['accuracy']\n",
        "y_vloss = hist.history['val_loss']\n",
        "xs = np.arange(1, len(y_acc)+1)"
      ]
    },
    {
      "cell_type": "code",
      "execution_count": null,
      "metadata": {
        "colab": {
          "base_uri": "https://localhost:8080/",
          "height": 564
        },
        "id": "UPHylCPxmt1x",
        "outputId": "9008f963-2388-4929-9321-9f587199fd37"
      },
      "outputs": [
        {
          "data": {
            "image/png": "[encoded data removed]",
            "text/plain": [
              "<Figure size 1200x600 with 1 Axes>"
            ]
          },
          "metadata": {},
          "output_type": "display_data"
        }
      ],
      "source": [
        "plt.figure(figsize=(12,6))\n",
        "plt.plot(xs, y_acc, label='train accuracy')\n",
        "plt.plot(xs, y_vloss, label='validation loss')\n",
        "plt.legend(), plt.grid(), plt.xlabel('epoch')\n",
        "plt.title('MNIST CNN Model v2')\n",
        "plt.show()"
      ]
    },
    {
      "cell_type": "code",
      "execution_count": 31,
      "metadata": {
        "id": "0VuzB9Temufw"
      },
      "outputs": [],
      "source": []
    }
  ],
  "metadata": {
    "accelerator": "GPU",
    "colab": {
      "gpuType": "T4",
      "provenance": []
    },
    "kernelspec": {
      "display_name": "Python 3",
      "name": "python3"
    },
    "language_info": {
      "name": "python"
    }
  },
  "nbformat": 4,
  "nbformat_minor": 0
}
